{
 "cells": [
  {
   "cell_type": "markdown",
   "id": "03c914a4-0938-4c30-938b-ed3c62ad74e6",
   "metadata": {},
   "source": [
    "# Importing the important Libraries"
   ]
  },
  {
   "cell_type": "code",
   "execution_count": null,
   "id": "3ece7f6f-87eb-490a-bd40-5001feab59e6",
   "metadata": {},
   "outputs": [],
   "source": [
    "import pandas as pd\n",
    "import numpy as np\n",
    "import matplotlib.pyplot as plt"
   ]
  },
  {
   "cell_type": "markdown",
   "id": "bc3c43a5-4392-47a9-bd94-17f6c1361a5d",
   "metadata": {},
   "source": [
    "# Loading Data"
   ]
  },
  {
   "cell_type": "code",
   "execution_count": null,
   "id": "916e5bac-32be-4335-a5bb-bbef64b083ed",
   "metadata": {},
   "outputs": [],
   "source": [
    "data_train = pd.read_csv(\"datasets/train.csv\")\n",
    "data_test = pd.read_csv(\"datasets/test.csv\")"
   ]
  },
  {
   "cell_type": "markdown",
   "id": "94ebc1a7-c896-4e07-974b-076ce51f75a6",
   "metadata": {},
   "source": [
    "# Data Analysis"
   ]
  },
  {
   "cell_type": "code",
   "execution_count": null,
   "id": "61c5a983-9de4-427d-9c6e-9941c591dbe2",
   "metadata": {},
   "outputs": [],
   "source": [
    "data_train.head()"
   ]
  },
  {
   "cell_type": "code",
   "execution_count": null,
   "id": "80b3d486-f17e-4239-aa45-d173605b9e60",
   "metadata": {},
   "outputs": [],
   "source": [
    "data_train.head(2)"
   ]
  },
  {
   "cell_type": "code",
   "execution_count": null,
   "id": "bac8e5dd-2068-4f8e-87e1-c1b6c56fa735",
   "metadata": {},
   "outputs": [],
   "source": [
    "data_train.info()"
   ]
  },
  {
   "cell_type": "code",
   "execution_count": null,
   "id": "e1e45731-6d81-4eb0-995b-f81e7de42845",
   "metadata": {},
   "outputs": [],
   "source": [
    "data_train.describe()"
   ]
  },
  {
   "cell_type": "code",
   "execution_count": null,
   "id": "3d9d11af-dbd0-42db-bd75-1cb607b99fb3",
   "metadata": {},
   "outputs": [],
   "source": [
    "data_train.isnull().sum().sum()"
   ]
  },
  {
   "cell_type": "code",
   "execution_count": null,
   "id": "3bbe5191-a9e7-4b68-a5f3-b4f6879ed6f5",
   "metadata": {},
   "outputs": [],
   "source": [
    "data_test.isnull().sum().sum()"
   ]
  },
  {
   "cell_type": "code",
   "execution_count": null,
   "id": "49ddb5e0-74f1-47a8-b8d5-47ad2772ee7b",
   "metadata": {},
   "outputs": [],
   "source": [
    "data_train.dropna(inplace = True)"
   ]
  },
  {
   "cell_type": "code",
   "execution_count": null,
   "id": "ed4e3e7f-917e-4e50-9ac0-55cff1a05928",
   "metadata": {},
   "outputs": [],
   "source": [
    "data_train.info()"
   ]
  },
  {
   "cell_type": "markdown",
   "id": "23c0e105-96c2-44b9-abaf-a369641cfecb",
   "metadata": {},
   "source": [
    "# Visualising the Data"
   ]
  },
  {
   "cell_type": "code",
   "execution_count": null,
   "id": "5fa4194e-fe5a-4f05-a813-3fea5d028ed5",
   "metadata": {},
   "outputs": [],
   "source": [
    "plt.scatter(data_train['x'],data_train['y'],s=8)\n",
    "plt.xlabel(\"X-axis\")\n",
    "plt.ylabel(\"y-axis\")\n",
    "plt.savefig(\"Linear data\")\n",
    "plt.show()\n",
    "\n",
    "# the data is linear"
   ]
  },
  {
   "cell_type": "markdown",
   "id": "38fcbb5e-8e48-4c0c-8f50-ee74ec06197c",
   "metadata": {},
   "source": [
    "# Splitting the data "
   ]
  },
  {
   "cell_type": "code",
   "execution_count": null,
   "id": "bd45f8ae-033d-45c6-bdcc-56317d691996",
   "metadata": {},
   "outputs": [],
   "source": [
    "X_train = data_train.iloc[:,0].values\n",
    "X_test = data_test.iloc[:,0].values\n",
    "y_train = data_train.iloc[:,1].values\n",
    "y_test = data_test.iloc[:,1].values"
   ]
  },
  {
   "cell_type": "markdown",
   "id": "f5e71398-0ca4-4caf-a108-0cf51e281d58",
   "metadata": {},
   "source": [
    "# Linear Regression"
   ]
  },
  {
   "cell_type": "code",
   "execution_count": null,
   "id": "a226eaa3-e97f-4969-8fa0-6dd0f35b567a",
   "metadata": {},
   "outputs": [],
   "source": [
    "from sklearn.linear_model import LinearRegression\n",
    "\n",
    "lrg = LinearRegression()\n",
    "\n",
    "# We reshaped the X_train cause it was in the form of array\n",
    "lrg.fit(X_train.reshape(-1,1),y_train)"
   ]
  },
  {
   "cell_type": "markdown",
   "id": "9c26e585-cbc8-4472-baa3-04c53ea409d7",
   "metadata": {},
   "source": [
    "## Predicting"
   ]
  },
  {
   "cell_type": "code",
   "execution_count": null,
   "id": "86587725-786a-43f1-a775-d11efdd5f11e",
   "metadata": {},
   "outputs": [],
   "source": [
    "y_pred =lrg.predict(X_test.reshape(-1,1))"
   ]
  },
  {
   "cell_type": "code",
   "execution_count": null,
   "id": "f0baa713-78de-4bbf-94c0-c29f280141a9",
   "metadata": {},
   "outputs": [],
   "source": [
    "# this model as accuracy of 0.98, excellent. \n",
    "\n",
    "lrg.score(X_test.reshape(-1,1),y_test)"
   ]
  },
  {
   "cell_type": "code",
   "execution_count": null,
   "id": "faad443d-4a76-4e91-88dc-1557844437a3",
   "metadata": {},
   "outputs": [],
   "source": []
  }
 ],
 "metadata": {
  "kernelspec": {
   "display_name": "Python 3 (ipykernel)",
   "language": "python",
   "name": "python3"
  },
  "language_info": {
   "codemirror_mode": {
    "name": "ipython",
    "version": 3
   },
   "file_extension": ".py",
   "mimetype": "text/x-python",
   "name": "python",
   "nbconvert_exporter": "python",
   "pygments_lexer": "ipython3",
   "version": "3.9.6"
  }
 },
 "nbformat": 4,
 "nbformat_minor": 5
}
